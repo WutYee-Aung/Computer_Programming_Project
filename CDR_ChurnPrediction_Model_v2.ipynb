{
 "cells": [
  {
   "cell_type": "markdown",
   "metadata": {},
   "source": [
    "## 1. Import Libraries"
   ]
  },
  {
   "cell_type": "code",
   "execution_count": null,
   "metadata": {},
   "outputs": [],
   "source": [
    "# !pip3 install xgboost"
   ]
  },
  {
   "cell_type": "code",
   "execution_count": 1,
   "metadata": {},
   "outputs": [],
   "source": [
    "import pandas as pd\n",
    "import numpy as np\n",
    "import matplotlib.pyplot as plt\n",
    "import seaborn as sns\n",
    "\n",
    "from sklearn.preprocessing import StandardScaler, PolynomialFeatures, LabelEncoder\n",
    "\n",
    "from sklearn.model_selection import train_test_split, cross_val_score, GridSearchCV, RepeatedStratifiedKFold\n",
    "\n",
    "from sklearn.linear_model import LogisticRegression\n",
    "from sklearn.naive_bayes import GaussianNB\n",
    "from sklearn.neighbors import KNeighborsClassifier\n",
    "from sklearn.ensemble import RandomForestClassifier, GradientBoostingClassifier\n",
    "import xgboost as xgb\n",
    "\n",
    "from sklearn.metrics import make_scorer, accuracy_score, precision_score, recall_score, f1_score, confusion_matrix, classification_report, ConfusionMatrixDisplay"
   ]
  },
  {
   "cell_type": "markdown",
   "metadata": {},
   "source": [
    "## 2. Load Data"
   ]
  },
  {
   "cell_type": "code",
   "execution_count": 3,
   "metadata": {},
   "outputs": [],
   "source": [
    "file_path = 'C:\\AIT\\FirstSem\\CP\\Project\\CDR-Call-Details.csv'\n",
    "df = pd.read_csv(file_path)\n",
    "df_copy = df"
   ]
  },
  {
   "cell_type": "markdown",
   "metadata": {},
   "source": [
    "## 3. Feature Engineering"
   ]
  },
  {
   "cell_type": "code",
   "execution_count": 4,
   "metadata": {},
   "outputs": [],
   "source": [
    "df['total_mins'] = df['Day Mins'] + df['Eve Mins'] + df['Night Mins'] + df['Intl Mins']\n",
    "df['total_call'] = df['Day Calls'] + df['Eve Calls'] + df['Night Calls'] + df['Intl Calls']\n",
    "\n",
    "df['mins_per_call'] = df['total_mins']/df['total_call']"
   ]
  },
  {
   "cell_type": "markdown",
   "metadata": {},
   "source": [
    "## 4. Train Test Split"
   ]
  },
  {
   "cell_type": "code",
   "execution_count": 4,
   "metadata": {},
   "outputs": [
    {
     "data": {
      "text/html": [
       "<div>\n",
       "<style scoped>\n",
       "    .dataframe tbody tr th:only-of-type {\n",
       "        vertical-align: middle;\n",
       "    }\n",
       "\n",
       "    .dataframe tbody tr th {\n",
       "        vertical-align: top;\n",
       "    }\n",
       "\n",
       "    .dataframe thead th {\n",
       "        text-align: right;\n",
       "    }\n",
       "</style>\n",
       "<table border=\"1\" class=\"dataframe\">\n",
       "  <thead>\n",
       "    <tr style=\"text-align: right;\">\n",
       "      <th></th>\n",
       "      <th>Phone Number</th>\n",
       "      <th>Account Length</th>\n",
       "      <th>VMail Message</th>\n",
       "      <th>Day Mins</th>\n",
       "      <th>Day Calls</th>\n",
       "      <th>Day Charge</th>\n",
       "      <th>Eve Mins</th>\n",
       "      <th>Eve Calls</th>\n",
       "      <th>Eve Charge</th>\n",
       "      <th>Night Mins</th>\n",
       "      <th>Night Calls</th>\n",
       "      <th>Night Charge</th>\n",
       "      <th>Intl Mins</th>\n",
       "      <th>Intl Calls</th>\n",
       "      <th>Intl Charge</th>\n",
       "      <th>CustServ Calls</th>\n",
       "      <th>Churn</th>\n",
       "      <th>total_mins</th>\n",
       "      <th>total_call</th>\n",
       "      <th>mins_per_call</th>\n",
       "    </tr>\n",
       "  </thead>\n",
       "  <tbody>\n",
       "    <tr>\n",
       "      <th>0</th>\n",
       "      <td>382-4657</td>\n",
       "      <td>128</td>\n",
       "      <td>25</td>\n",
       "      <td>265.1</td>\n",
       "      <td>110</td>\n",
       "      <td>45.07</td>\n",
       "      <td>197.4</td>\n",
       "      <td>99</td>\n",
       "      <td>16.78</td>\n",
       "      <td>244.7</td>\n",
       "      <td>91</td>\n",
       "      <td>11.01</td>\n",
       "      <td>10.0</td>\n",
       "      <td>3</td>\n",
       "      <td>2.70</td>\n",
       "      <td>1</td>\n",
       "      <td>False</td>\n",
       "      <td>717.2</td>\n",
       "      <td>303</td>\n",
       "      <td>2.366997</td>\n",
       "    </tr>\n",
       "    <tr>\n",
       "      <th>1</th>\n",
       "      <td>371-7191</td>\n",
       "      <td>107</td>\n",
       "      <td>26</td>\n",
       "      <td>161.6</td>\n",
       "      <td>123</td>\n",
       "      <td>27.47</td>\n",
       "      <td>195.5</td>\n",
       "      <td>103</td>\n",
       "      <td>16.62</td>\n",
       "      <td>254.4</td>\n",
       "      <td>103</td>\n",
       "      <td>11.45</td>\n",
       "      <td>13.7</td>\n",
       "      <td>3</td>\n",
       "      <td>3.70</td>\n",
       "      <td>1</td>\n",
       "      <td>False</td>\n",
       "      <td>625.2</td>\n",
       "      <td>332</td>\n",
       "      <td>1.883133</td>\n",
       "    </tr>\n",
       "    <tr>\n",
       "      <th>2</th>\n",
       "      <td>358-1921</td>\n",
       "      <td>137</td>\n",
       "      <td>0</td>\n",
       "      <td>243.4</td>\n",
       "      <td>114</td>\n",
       "      <td>41.38</td>\n",
       "      <td>121.2</td>\n",
       "      <td>110</td>\n",
       "      <td>10.30</td>\n",
       "      <td>162.6</td>\n",
       "      <td>104</td>\n",
       "      <td>7.32</td>\n",
       "      <td>12.2</td>\n",
       "      <td>5</td>\n",
       "      <td>3.29</td>\n",
       "      <td>0</td>\n",
       "      <td>False</td>\n",
       "      <td>539.4</td>\n",
       "      <td>333</td>\n",
       "      <td>1.619820</td>\n",
       "    </tr>\n",
       "    <tr>\n",
       "      <th>3</th>\n",
       "      <td>375-9999</td>\n",
       "      <td>84</td>\n",
       "      <td>0</td>\n",
       "      <td>299.4</td>\n",
       "      <td>71</td>\n",
       "      <td>50.90</td>\n",
       "      <td>61.9</td>\n",
       "      <td>88</td>\n",
       "      <td>5.26</td>\n",
       "      <td>196.9</td>\n",
       "      <td>89</td>\n",
       "      <td>8.86</td>\n",
       "      <td>6.6</td>\n",
       "      <td>7</td>\n",
       "      <td>1.78</td>\n",
       "      <td>2</td>\n",
       "      <td>False</td>\n",
       "      <td>564.8</td>\n",
       "      <td>255</td>\n",
       "      <td>2.214902</td>\n",
       "    </tr>\n",
       "    <tr>\n",
       "      <th>4</th>\n",
       "      <td>330-6626</td>\n",
       "      <td>75</td>\n",
       "      <td>0</td>\n",
       "      <td>166.7</td>\n",
       "      <td>113</td>\n",
       "      <td>28.34</td>\n",
       "      <td>148.3</td>\n",
       "      <td>122</td>\n",
       "      <td>12.61</td>\n",
       "      <td>186.9</td>\n",
       "      <td>121</td>\n",
       "      <td>8.41</td>\n",
       "      <td>10.1</td>\n",
       "      <td>3</td>\n",
       "      <td>2.73</td>\n",
       "      <td>3</td>\n",
       "      <td>False</td>\n",
       "      <td>512.0</td>\n",
       "      <td>359</td>\n",
       "      <td>1.426184</td>\n",
       "    </tr>\n",
       "  </tbody>\n",
       "</table>\n",
       "</div>"
      ],
      "text/plain": [
       "  Phone Number  Account Length  VMail Message  Day Mins  Day Calls  \\\n",
       "0     382-4657             128             25     265.1        110   \n",
       "1     371-7191             107             26     161.6        123   \n",
       "2     358-1921             137              0     243.4        114   \n",
       "3     375-9999              84              0     299.4         71   \n",
       "4     330-6626              75              0     166.7        113   \n",
       "\n",
       "   Day Charge  Eve Mins  Eve Calls  Eve Charge  Night Mins  Night Calls  \\\n",
       "0       45.07     197.4         99       16.78       244.7           91   \n",
       "1       27.47     195.5        103       16.62       254.4          103   \n",
       "2       41.38     121.2        110       10.30       162.6          104   \n",
       "3       50.90      61.9         88        5.26       196.9           89   \n",
       "4       28.34     148.3        122       12.61       186.9          121   \n",
       "\n",
       "   Night Charge  Intl Mins  Intl Calls  Intl Charge  CustServ Calls  Churn  \\\n",
       "0         11.01       10.0           3         2.70               1  False   \n",
       "1         11.45       13.7           3         3.70               1  False   \n",
       "2          7.32       12.2           5         3.29               0  False   \n",
       "3          8.86        6.6           7         1.78               2  False   \n",
       "4          8.41       10.1           3         2.73               3  False   \n",
       "\n",
       "   total_mins  total_call  mins_per_call  \n",
       "0       717.2         303       2.366997  \n",
       "1       625.2         332       1.883133  \n",
       "2       539.4         333       1.619820  \n",
       "3       564.8         255       2.214902  \n",
       "4       512.0         359       1.426184  "
      ]
     },
     "execution_count": 4,
     "metadata": {},
     "output_type": "execute_result"
    }
   ],
   "source": [
    "df.head()"
   ]
  },
  {
   "cell_type": "code",
   "execution_count": 5,
   "metadata": {},
   "outputs": [],
   "source": [
    "X = df.drop(columns = ['Phone Number','Day Charge','Eve Charge','Night Charge','Intl Charge','Churn'], axis = 'columns')\n",
    "le = LabelEncoder()\n",
    "y = le.fit_transform(df['Churn'])"
   ]
  },
  {
   "cell_type": "code",
   "execution_count": 6,
   "metadata": {},
   "outputs": [],
   "source": [
    "X_train, X_test, y_train, y_test = train_test_split(X, y, test_size=0.33, random_state=42, stratify=df['Churn'])"
   ]
  },
  {
   "cell_type": "code",
   "execution_count": 7,
   "metadata": {},
   "outputs": [
    {
     "data": {
      "text/plain": [
       "Account Length      int64\n",
       "VMail Message       int64\n",
       "Day Mins          float64\n",
       "Day Calls           int64\n",
       "Eve Mins          float64\n",
       "Eve Calls           int64\n",
       "Night Mins        float64\n",
       "Night Calls         int64\n",
       "Intl Mins         float64\n",
       "Intl Calls          int64\n",
       "CustServ Calls      int64\n",
       "total_mins        float64\n",
       "total_call          int64\n",
       "mins_per_call     float64\n",
       "dtype: object"
      ]
     },
     "execution_count": 7,
     "metadata": {},
     "output_type": "execute_result"
    }
   ],
   "source": [
    "X_train.dtypes"
   ]
  },
  {
   "cell_type": "code",
   "execution_count": 8,
   "metadata": {},
   "outputs": [
    {
     "data": {
      "text/plain": [
       "Account Length    0\n",
       "VMail Message     0\n",
       "Day Mins          0\n",
       "Day Calls         0\n",
       "Eve Mins          0\n",
       "Eve Calls         0\n",
       "Night Mins        0\n",
       "Night Calls       0\n",
       "Intl Mins         0\n",
       "Intl Calls        0\n",
       "CustServ Calls    0\n",
       "total_mins        0\n",
       "total_call        0\n",
       "mins_per_call     0\n",
       "dtype: int64"
      ]
     },
     "execution_count": 8,
     "metadata": {},
     "output_type": "execute_result"
    }
   ],
   "source": [
    "X_train.isna().sum()"
   ]
  },
  {
   "cell_type": "markdown",
   "metadata": {},
   "source": [
    "## Scaling"
   ]
  },
  {
   "cell_type": "code",
   "execution_count": 7,
   "metadata": {},
   "outputs": [],
   "source": [
    "std_scalar = StandardScaler()\n",
    "X_train = std_scalar.fit_transform(X_train)\n",
    "X_test  = std_scalar.transform(X_test)"
   ]
  },
  {
   "cell_type": "markdown",
   "metadata": {},
   "source": [
    "## 5. Model"
   ]
  },
  {
   "cell_type": "code",
   "execution_count": 8,
   "metadata": {},
   "outputs": [],
   "source": [
    "class ChurnPredictionEnsemble(object):\n",
    "    def __init__(self):\n",
    "        self.lr  = LogisticRegression()\n",
    "        self.knn = KNeighborsClassifier()\n",
    "        self.rf  = RandomForestClassifier()\n",
    "        self.gb  = GradientBoostingClassifier()\n",
    "        self.xgb  = xgb.XGBClassifier()\n",
    "        \n",
    "    def fit(self, X_train, y_train):\n",
    "        kfold = 5\n",
    "        # scoring = {'accuracy': make_scorer(accuracy_score),'precision': make_scorer(precision_score),'recall':make_scorer(recall_score)}\n",
    "\n",
    "        lr_param_grid = {\n",
    "            # best param\n",
    "            # 'C': [0.001],\n",
    "            # 'penalty': ['l2'],\n",
    "            # 'solver': ['lbfgs']\n",
    "            \n",
    "            'solver': ['lbfgs'], # , 'liblinear'\n",
    "            'penalty': ['l2','none'], # , 'elasticnet', 'None',\n",
    "            'C': [0.1, 0.01, 0.001]\n",
    "        }\n",
    "        self.lr_grid = GridSearchCV(estimator = self.lr, param_grid = lr_param_grid, cv = kfold, n_jobs = -1, return_train_score=True, refit=True, scoring='accuracy')\n",
    "        self.lr_grid.fit(X_train, y_train)\n",
    "        \n",
    "        knn_param_grid = {\n",
    "            'n_neighbors': [1,3,5], #\n",
    "            'weights': ['uniform', 'distance'], # ['uniform', 'distance'],\n",
    "            'metric': ['euclidean'] # 'euclidean', 'manhattan', 'minkowski'\n",
    "        }\n",
    "        self.knn_grid = GridSearchCV(estimator=self.knn, param_grid=knn_param_grid, cv=kfold, return_train_score=True, refit=True, scoring='accuracy', n_jobs=-1)\n",
    "        self.knn_grid.fit(X_train, y_train)\n",
    "        \n",
    "        rf_param_grid = {\n",
    "            'n_estimators': [10, 100],\n",
    "            'max_features': ['sqrt', 'log2']\n",
    "        }\n",
    "        cv = RepeatedStratifiedKFold(n_splits=10, n_repeats=3, random_state=1)\n",
    "        self.rf_grid = GridSearchCV(estimator=self.rf, param_grid=rf_param_grid, cv=cv, return_train_score=True, refit=True, scoring='accuracy', n_jobs=-1)\n",
    "        self.rf_grid.fit(X_train, y_train)\n",
    "        \n",
    "        gb_para_grid = {\n",
    "            # best params\n",
    "            'learning_rate': [0.01],\n",
    "            'loss':['exponential'],\n",
    "            'max_depth':[1],\n",
    "            'max_features':['log2'],\n",
    "            'min_samples_leaf': [0.1],\n",
    "            'min_samples_split': [0.1],\n",
    "            'subsample':[0.5],\n",
    "            'n_estimators':[5]\n",
    "            \n",
    "            # 'learning_rate': [0.01, 0.001, 0.0001],\n",
    "            # 'loss':['exponential', 'log_loss'],\n",
    "            # 'min_samples_split': np.linspace(0.1, 0.5), # , 12\n",
    "            # 'min_samples_leaf': np.linspace(0.1, 0.5),  # , 12\n",
    "            # 'max_depth':[1,3],\n",
    "            # 'max_features':['log2'], # 'log2','sqrt'\n",
    "            # # 'criterion': ['friedman_mse', 'mae'],\n",
    "            # 'subsample':[0.5, 1.0], # 0.5, 0.618, 0.8, 0.85, 0.9, 0.95, 1.0\n",
    "            # 'n_estimators':[5]\n",
    "        }\n",
    "        self.gb_grid = GridSearchCV(estimator=self.gb, param_grid=gb_para_grid, cv=kfold, return_train_score=True, refit=True, scoring='accuracy', n_jobs=-1)\n",
    "        self.gb_grid.fit(X_train, y_train)\n",
    "        \n",
    "        xgb_param_grid = {\n",
    "            # best params\n",
    "            'learning_rate': [0.1],\n",
    "            'max_depth': [10],\n",
    "            'n_estimators': [180],\n",
    "            'random_state': [42]\n",
    "            \n",
    "            # 'max_depth': [3, 5, 10], # range (2, 10, 1),\n",
    "            # 'n_estimators': range(60, 220, 40),\n",
    "            # 'random_state' : [42],\n",
    "            # 'learning_rate': [0.1, 0.01, 0.05]\n",
    "        }\n",
    "        self.xgb_grid = GridSearchCV(estimator=self.xgb, param_grid=xgb_param_grid, cv=kfold, return_train_score=True, refit=True, scoring='accuracy', n_jobs=-1)\n",
    "        self.xgb_grid.fit(X_train, y_train)\n",
    "    \n",
    "    def generate_predictions(self,x):\n",
    "        predictions = []\n",
    "        \n",
    "        predictions.append(self.lr_grid.predict(x))\n",
    "        predictions.append(self.knn_grid.predict(x))\n",
    "        predictions.append(self.rf_grid.predict(x))\n",
    "        predictions.append(self.gb_grid.predict(x))\n",
    "        predictions.append(self.xgb_grid.predict(x))\n",
    "        \n",
    "        return np.array(predictions)\n",
    "    \n",
    "    def calculate_average_prediction(self, predictions_list):\n",
    "        return np.mean(predictions_list, axis=0)\n",
    "    \n",
    "    def final_churn_classification(self, transformed_prediction):\n",
    "        threshold = 0.5\n",
    "        return np.where(transformed_prediction >= threshold, 1, 0)\n",
    "    \n",
    "    def predict_churn(self, X):\n",
    "        model_predictions = self.generate_predictions(X)\n",
    "        average_prediction = self.calculate_average_prediction(model_predictions)\n",
    "        final_classification = self.final_churn_classification(average_prediction)\n",
    "        return final_classification"
   ]
  },
  {
   "cell_type": "markdown",
   "metadata": {},
   "source": [
    "## Validation"
   ]
  },
  {
   "cell_type": "code",
   "execution_count": 9,
   "metadata": {},
   "outputs": [],
   "source": [
    "predict_churn = ChurnPredictionEnsemble()\n",
    "predict_churn.fit(X_train, y_train)"
   ]
  },
  {
   "cell_type": "code",
   "execution_count": 10,
   "metadata": {},
   "outputs": [],
   "source": [
    "y_hat = predict_churn.predict_churn(X_train)"
   ]
  },
  {
   "cell_type": "code",
   "execution_count": 11,
   "metadata": {},
   "outputs": [
    {
     "name": "stdout",
     "output_type": "stream",
     "text": [
      "0    61024\n",
      "1     6762\n",
      "Name: Churn, dtype: int64\n"
     ]
    }
   ],
   "source": [
    "y_hat_df = pd.DataFrame(y_hat, columns=['Churn'])\n",
    "ratio = y_hat_df['Churn'].value_counts()\n",
    "print(ratio)"
   ]
  },
  {
   "cell_type": "markdown",
   "metadata": {},
   "source": [
    "### Best Parameters for each Model"
   ]
  },
  {
   "cell_type": "code",
   "execution_count": null,
   "metadata": {},
   "outputs": [],
   "source": [
    "# predict_churn.lr_grid.best_params_\n",
    "# {'C': 0.001, 'penalty': 'l2', 'solver': 'lbfgs'}\n",
    "\n",
    "# predict_churn.knn_grid.best_params_\n",
    "# {'metric': 'euclidean', 'n_neighbors': 5, 'weights': 'distance'}\n",
    "\n",
    "# predict_churn.rf_grid.best_params_\n",
    "# {'max_features': 'sqrt', 'n_estimators': 100}\n",
    "\n",
    "# predict_churn.gb_grid.best_params_\n",
    "# {'learning_rate': 0.01,\n",
    "#  'loss': 'exponential',\n",
    "#  'max_depth': 1,\n",
    "#  'max_features': 'log2',\n",
    "#  'min_samples_leaf': 0.1,\n",
    "#  'min_samples_split': 0.1,\n",
    "#  'n_estimators': 5,\n",
    "#  'subsample': 0.5}\n",
    "\n",
    "predict_churn.xgb_grid.best_params_\n",
    "# {'learning_rate': 0.1,\n",
    "#  'max_depth': 10,\n",
    "#  'n_estimators': 180,\n",
    "#  'random_state': 42}"
   ]
  },
  {
   "cell_type": "markdown",
   "metadata": {},
   "source": [
    "### Training Score"
   ]
  },
  {
   "cell_type": "code",
   "execution_count": 12,
   "metadata": {},
   "outputs": [
    {
     "name": "stdout",
     "output_type": "stream",
     "text": [
      "Accuracy  : 0.98\n",
      "Precision : 0.91\n",
      "Recall    : 0.87\n",
      "F1_Score  : 0.89\n",
      "              precision    recall  f1-score   support\n",
      "\n",
      "           0       0.99      0.99      0.99     60730\n",
      "           1       0.91      0.87      0.89      7056\n",
      "\n",
      "    accuracy                           0.98     67786\n",
      "   macro avg       0.95      0.93      0.94     67786\n",
      "weighted avg       0.98      0.98      0.98     67786\n",
      "\n"
     ]
    }
   ],
   "source": [
    "print(f\"Accuracy  : {(accuracy_score(y_train, y_hat)):.2f}\")\n",
    "print(f\"Precision : {(precision_score(y_train, y_hat)):.2f}\")\n",
    "print(f\"Recall    : {(recall_score(y_train, y_hat)):.2f}\")\n",
    "print(f\"F1_Score  : {(f1_score(y_train, y_hat)):.2f}\")\n",
    "\n",
    "# print classification report\n",
    "print(classification_report(y_train, y_hat))"
   ]
  },
  {
   "cell_type": "markdown",
   "metadata": {},
   "source": [
    "### Training Confusion Matrix"
   ]
  },
  {
   "cell_type": "code",
   "execution_count": 13,
   "metadata": {},
   "outputs": [
    {
     "data": {
      "image/png": "[encoded data removed]",
      "text/plain": [
       "<Figure size 600x500 with 2 Axes>"
      ]
     },
     "metadata": {},
     "output_type": "display_data"
    }
   ],
   "source": [
    "#display confusion matrix\n",
    "cm = confusion_matrix(y_train, y_hat)\n",
    "cmp = ConfusionMatrixDisplay(cm, display_labels=[0, 1])\n",
    "\n",
    "plt.figure(figsize=(6,5))\n",
    "sns.heatmap(cm, annot=True, fmt=\"d\")\n",
    "plt.xlabel(\"Predicted\")\n",
    "plt.ylabel(\"Actual\")\n",
    "plt.title(\"Confusion Matrix Heatmap\")\n",
    "plt.show()"
   ]
  },
  {
   "cell_type": "markdown",
   "metadata": {},
   "source": [
    "### Feature Importance"
   ]
  },
  {
   "cell_type": "code",
   "execution_count": 14,
   "metadata": {},
   "outputs": [
    {
     "data": {
      "text/plain": [
       "Text(0.5, 0, 'Random Forest Feature Importance')"
      ]
     },
     "execution_count": 14,
     "metadata": {},
     "output_type": "execute_result"
    },
    {
     "data": {
      "image/png": "[encoded data removed]",
      "text/plain": [
       "<Figure size 640x480 with 1 Axes>"
      ]
     },
     "metadata": {},
     "output_type": "display_data"
    }
   ],
   "source": [
    "# Retrieve feature importance scores\n",
    "best_xgb = predict_churn.xgb_grid.best_estimator_\n",
    "feature_importances = best_xgb.feature_importances_\n",
    "\n",
    "sorted_idx = feature_importances.argsort()\n",
    "plt.barh(X.columns[sorted_idx], feature_importances[sorted_idx])\n",
    "plt.xlabel(\"Random Forest Feature Importance\")"
   ]
  },
  {
   "cell_type": "markdown",
   "metadata": {},
   "source": [
    "## Testing"
   ]
  },
  {
   "cell_type": "code",
   "execution_count": 15,
   "metadata": {},
   "outputs": [],
   "source": [
    "y_pred = predict_churn.predict_churn(X_test)"
   ]
  },
  {
   "cell_type": "code",
   "execution_count": 16,
   "metadata": {},
   "outputs": [
    {
     "name": "stdout",
     "output_type": "stream",
     "text": [
      "Accuracy  : 0.96\n",
      "Precision : 0.87\n",
      "Recall    : 0.73\n",
      "F1_Score  : 0.80\n",
      "              precision    recall  f1-score   support\n",
      "\n",
      "           0       0.97      0.99      0.98     29912\n",
      "           1       0.87      0.73      0.80      3476\n",
      "\n",
      "    accuracy                           0.96     33388\n",
      "   macro avg       0.92      0.86      0.89     33388\n",
      "weighted avg       0.96      0.96      0.96     33388\n",
      "\n"
     ]
    }
   ],
   "source": [
    "print(f\"Accuracy  : {(accuracy_score(y_test, y_pred)):.2f}\")\n",
    "print(f\"Precision : {(precision_score(y_test, y_pred)):.2f}\")\n",
    "print(f\"Recall    : {(recall_score(y_test, y_pred)):.2f}\")\n",
    "print(f\"F1_Score  : {(f1_score(y_test, y_pred)):.2f}\")\n",
    "\n",
    "# print classification report\n",
    "print(classification_report(y_test, y_pred))"
   ]
  },
  {
   "cell_type": "code",
   "execution_count": 17,
   "metadata": {},
   "outputs": [
    {
     "data": {
      "image/png": "[encoded data removed]",
      "text/plain": [
       "<Figure size 600x500 with 2 Axes>"
      ]
     },
     "metadata": {},
     "output_type": "display_data"
    }
   ],
   "source": [
    "#display confusion matrix\n",
    "cm = confusion_matrix(y_test, y_pred)\n",
    "cmp = ConfusionMatrixDisplay(cm, display_labels=[0, 1])\n",
    "\n",
    "plt.figure(figsize=(6,5))\n",
    "sns.heatmap(cm, annot=True, fmt=\"d\")\n",
    "plt.xlabel(\"Predicted\")\n",
    "plt.ylabel(\"Actual\")\n",
    "plt.title(\"Confusion Matrix Heatmap\")\n",
    "plt.show()"
   ]
  },
  {
   "cell_type": "code",
   "execution_count": 18,
   "metadata": {},
   "outputs": [],
   "source": [
    "lr_yhat = predict_churn.lr_grid.predict(X_test)\n",
    "knn_yhat = predict_churn.knn_grid.predict(X_test)\n",
    "rf_yhat = predict_churn.rf_grid.predict(X_test)\n",
    "gb_yhat = predict_churn.gb_grid.predict(X_test)\n",
    "xgb_yhat = predict_churn.xgb_grid.predict(X_test)"
   ]
  },
  {
   "cell_type": "code",
   "execution_count": 19,
   "metadata": {},
   "outputs": [
    {
     "name": "stdout",
     "output_type": "stream",
     "text": [
      "Lr_Accuracy  : 0.90\n",
      "Lr_F1_Score  : 0.00\n",
      "Lr Classification Report\n",
      "              precision    recall  f1-score   support\n",
      "\n",
      "           0       0.90      1.00      0.95     29912\n",
      "           1       0.00      0.00      0.00      3476\n",
      "\n",
      "    accuracy                           0.90     33388\n",
      "   macro avg       0.45      0.50      0.47     33388\n",
      "weighted avg       0.80      0.90      0.85     33388\n",
      "\n",
      "------------------------------------------------------------\n",
      "KNN_Accuracy  : 0.96\n",
      "KNN_F1_Score  : 0.81\n",
      "KNN Classification Report\n",
      "              precision    recall  f1-score   support\n",
      "\n",
      "           0       0.98      0.98      0.98     29912\n",
      "           1       0.84      0.79      0.81      3476\n",
      "\n",
      "    accuracy                           0.96     33388\n",
      "   macro avg       0.91      0.88      0.90     33388\n",
      "weighted avg       0.96      0.96      0.96     33388\n",
      "\n",
      "------------------------------------------------------------\n",
      "RF_Accuracy  : 0.96\n",
      "RF_F1_Score  : 0.82\n",
      "RF Classification Report\n",
      "              precision    recall  f1-score   support\n",
      "\n",
      "           0       0.98      0.98      0.98     29912\n",
      "           1       0.85      0.79      0.82      3476\n",
      "\n",
      "    accuracy                           0.96     33388\n",
      "   macro avg       0.91      0.89      0.90     33388\n",
      "weighted avg       0.96      0.96      0.96     33388\n",
      "\n",
      "------------------------------------------------------------\n",
      "GB_Accuracy  : 0.90\n",
      "GB_F1_Score  : 0.00\n",
      "GB Classification Report\n",
      "              precision    recall  f1-score   support\n",
      "\n",
      "           0       0.90      1.00      0.95     29912\n",
      "           1       0.00      0.00      0.00      3476\n",
      "\n",
      "    accuracy                           0.90     33388\n",
      "   macro avg       0.45      0.50      0.47     33388\n",
      "weighted avg       0.80      0.90      0.85     33388\n",
      "\n",
      "------------------------------------------------------------\n",
      "XGB_Accuracy  : 0.96\n",
      "XGB_F1_Score  : 0.81\n",
      "XGB Classification Report\n"
     ]
    },
    {
     "name": "stderr",
     "output_type": "stream",
     "text": [
      "C:\\Users\\putoo\\AppData\\Local\\Packages\\PythonSoftwareFoundation.Python.3.11_qbz5n2kfra8p0\\LocalCache\\local-packages\\Python311\\site-packages\\sklearn\\metrics\\_classification.py:1469: UndefinedMetricWarning: Precision and F-score are ill-defined and being set to 0.0 in labels with no predicted samples. Use `zero_division` parameter to control this behavior.\n",
      "  _warn_prf(average, modifier, msg_start, len(result))\n",
      "C:\\Users\\putoo\\AppData\\Local\\Packages\\PythonSoftwareFoundation.Python.3.11_qbz5n2kfra8p0\\LocalCache\\local-packages\\Python311\\site-packages\\sklearn\\metrics\\_classification.py:1469: UndefinedMetricWarning: Precision and F-score are ill-defined and being set to 0.0 in labels with no predicted samples. Use `zero_division` parameter to control this behavior.\n",
      "  _warn_prf(average, modifier, msg_start, len(result))\n",
      "C:\\Users\\putoo\\AppData\\Local\\Packages\\PythonSoftwareFoundation.Python.3.11_qbz5n2kfra8p0\\LocalCache\\local-packages\\Python311\\site-packages\\sklearn\\metrics\\_classification.py:1469: UndefinedMetricWarning: Precision and F-score are ill-defined and being set to 0.0 in labels with no predicted samples. Use `zero_division` parameter to control this behavior.\n",
      "  _warn_prf(average, modifier, msg_start, len(result))\n",
      "C:\\Users\\putoo\\AppData\\Local\\Packages\\PythonSoftwareFoundation.Python.3.11_qbz5n2kfra8p0\\LocalCache\\local-packages\\Python311\\site-packages\\sklearn\\metrics\\_classification.py:1469: UndefinedMetricWarning: Precision and F-score are ill-defined and being set to 0.0 in labels with no predicted samples. Use `zero_division` parameter to control this behavior.\n",
      "  _warn_prf(average, modifier, msg_start, len(result))\n",
      "C:\\Users\\putoo\\AppData\\Local\\Packages\\PythonSoftwareFoundation.Python.3.11_qbz5n2kfra8p0\\LocalCache\\local-packages\\Python311\\site-packages\\sklearn\\metrics\\_classification.py:1469: UndefinedMetricWarning: Precision and F-score are ill-defined and being set to 0.0 in labels with no predicted samples. Use `zero_division` parameter to control this behavior.\n",
      "  _warn_prf(average, modifier, msg_start, len(result))\n",
      "C:\\Users\\putoo\\AppData\\Local\\Packages\\PythonSoftwareFoundation.Python.3.11_qbz5n2kfra8p0\\LocalCache\\local-packages\\Python311\\site-packages\\sklearn\\metrics\\_classification.py:1469: UndefinedMetricWarning: Precision and F-score are ill-defined and being set to 0.0 in labels with no predicted samples. Use `zero_division` parameter to control this behavior.\n",
      "  _warn_prf(average, modifier, msg_start, len(result))\n"
     ]
    },
    {
     "name": "stdout",
     "output_type": "stream",
     "text": [
      "              precision    recall  f1-score   support\n",
      "\n",
      "           0       0.97      0.99      0.98     29912\n",
      "           1       0.86      0.76      0.81      3476\n",
      "\n",
      "    accuracy                           0.96     33388\n",
      "   macro avg       0.92      0.87      0.89     33388\n",
      "weighted avg       0.96      0.96      0.96     33388\n",
      "\n"
     ]
    }
   ],
   "source": [
    "print(f\"Lr_Accuracy  : {(accuracy_score(y_test, lr_yhat)):.2f}\")\n",
    "print(f\"Lr_F1_Score  : {(f1_score(y_test, lr_yhat)):.2f}\")\n",
    "print(\"Lr Classification Report\")\n",
    "print(classification_report(y_test, lr_yhat))\n",
    "print(\"------------------------------------------------------------\")\n",
    "print(f\"KNN_Accuracy  : {(accuracy_score(y_test, knn_yhat)):.2f}\")\n",
    "print(f\"KNN_F1_Score  : {(f1_score(y_test, knn_yhat)):.2f}\")\n",
    "print(\"KNN Classification Report\")\n",
    "print(classification_report(y_test, knn_yhat))\n",
    "print(\"------------------------------------------------------------\")\n",
    "print(f\"RF_Accuracy  : {(accuracy_score(y_test, rf_yhat)):.2f}\")\n",
    "print(f\"RF_F1_Score  : {(f1_score(y_test, rf_yhat)):.2f}\")\n",
    "print(\"RF Classification Report\")\n",
    "print(classification_report(y_test, rf_yhat))\n",
    "print(\"------------------------------------------------------------\")\n",
    "print(f\"GB_Accuracy  : {(accuracy_score(y_test, gb_yhat)):.2f}\")\n",
    "print(f\"GB_F1_Score  : {(f1_score(y_test, gb_yhat)):.2f}\")\n",
    "print(\"GB Classification Report\")\n",
    "print(classification_report(y_test, gb_yhat))\n",
    "print(\"------------------------------------------------------------\")\n",
    "print(f\"XGB_Accuracy  : {(accuracy_score(y_test, xgb_yhat)):.2f}\")\n",
    "print(f\"XGB_F1_Score  : {(f1_score(y_test, xgb_yhat)):.2f}\")\n",
    "print(\"XGB Classification Report\")\n",
    "print(classification_report(y_test, xgb_yhat))"
   ]
  },
  {
   "cell_type": "code",
   "execution_count": 20,
   "metadata": {},
   "outputs": [],
   "source": [
    "import pickle"
   ]
  },
  {
   "cell_type": "code",
   "execution_count": 21,
   "metadata": {},
   "outputs": [],
   "source": [
    "filename = 'C:/AIT/FirstSem/CP/Project/CDC_ChurnPrediction.pkl'"
   ]
  },
  {
   "cell_type": "code",
   "execution_count": 22,
   "metadata": {},
   "outputs": [],
   "source": [
    "pickle.dump(predict_churn, open(filename,'wb+'))"
   ]
  },
  {
   "cell_type": "code",
   "execution_count": 23,
   "metadata": {},
   "outputs": [],
   "source": [
    "model = pickle.load(open(filename,'rb+'))"
   ]
  },
  {
   "cell_type": "code",
   "execution_count": 24,
   "metadata": {},
   "outputs": [],
   "source": [
    "yhat_2 = model.predict_churn(X_test)"
   ]
  },
  {
   "cell_type": "code",
   "execution_count": 16,
   "metadata": {},
   "outputs": [
    {
     "name": "stdout",
     "output_type": "stream",
     "text": [
      "Accuracy  : 0.96\n",
      "Precision : 0.87\n",
      "Recall    : 0.73\n",
      "F1_Score  : 0.80\n",
      "              precision    recall  f1-score   support\n",
      "\n",
      "           0       0.97      0.99      0.98     29912\n",
      "           1       0.87      0.73      0.80      3476\n",
      "\n",
      "    accuracy                           0.96     33388\n",
      "   macro avg       0.92      0.86      0.89     33388\n",
      "weighted avg       0.96      0.96      0.96     33388\n",
      "\n"
     ]
    }
   ],
   "source": [
    "print(f\"Accuracy  : {(accuracy_score(y_test, yhat_2)):.2f}\")\n",
    "print(f\"Precision : {(precision_score(y_test, yhat_2)):.2f}\")\n",
    "print(f\"Recall    : {(recall_score(y_test, yhat_2)):.2f}\")\n",
    "print(f\"F1_Score  : {(f1_score(y_test, yhat_2)):.2f}\")\n",
    "\n",
    "# print classification report\n",
    "print(classification_report(y_test, yhat_2))"
   ]
  }
 ],
 "metadata": {
  "kernelspec": {
   "display_name": "Python 3",
   "language": "python",
   "name": "python3"
  },
  "language_info": {
   "codemirror_mode": {
    "name": "ipython",
    "version": 3
   },
   "file_extension": ".py",
   "mimetype": "text/x-python",
   "name": "python",
   "nbconvert_exporter": "python",
   "pygments_lexer": "ipython3",
   "version": "3.11.5"
  }
 },
 "nbformat": 4,
 "nbformat_minor": 2
}
